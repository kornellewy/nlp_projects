{
 "cells": [
  {
   "cell_type": "code",
   "execution_count": 8,
   "metadata": {},
   "outputs": [
    {
     "data": {
      "text/plain": [
       "True"
      ]
     },
     "execution_count": 8,
     "metadata": {},
     "output_type": "execute_result"
    }
   ],
   "source": [
    "import os\n",
    "from pathlib import Path\n",
    "\n",
    "from langchain.vectorstores.cassandra import Cassandra\n",
    "from langchain.indexes.vectorstore import VectorStoreIndexWrapper\n",
    "from langchain.llms import OpenAI\n",
    "from langchain.embeddings import OpenAIEmbeddings\n",
    "\n",
    "from datasets import load_dataset\n",
    "import cassio\n",
    "from PyPDF2 import PdfReader\n",
    "from dotenv import load_dotenv\n",
    "\n",
    "load_dotenv()"
   ]
  },
  {
   "cell_type": "code",
   "execution_count": 9,
   "metadata": {},
   "outputs": [],
   "source": [
    "OPENAI_API_KEY_VAR = os.getenv('OPENAI_API_KEY')\n",
    "DB_TOKEN_API_KEY = os.getenv('DB_TOKEN_API_KEY')\n",
    "DB_ID_API_KEY = os.getenv('DB_ID_API_KEY')"
   ]
  },
  {
   "cell_type": "code",
   "execution_count": 13,
   "metadata": {},
   "outputs": [],
   "source": [
    "pdf_reader = PdfReader(\"/media/kornellewy/jan_dysk_3/nlp_projects/datasets/budget_speech.pdf\")"
   ]
  },
  {
   "cell_type": "code",
   "execution_count": 14,
   "metadata": {},
   "outputs": [],
   "source": [
    "from typing_extensions import Concatenate\n",
    "\n",
    "raw_text = ''\n",
    "for i, page in enumerate(pdf_reader.pages):\n",
    "    content = page.extract_text()\n",
    "    if content:\n",
    "        raw_text += content\n",
    "    "
   ]
  },
  {
   "cell_type": "code",
   "execution_count": 16,
   "metadata": {},
   "outputs": [],
   "source": [
    "cassio.init(token=DB_TOKEN_API_KEY, database_id=DB_ID_API_KEY)"
   ]
  },
  {
   "cell_type": "code",
   "execution_count": 17,
   "metadata": {},
   "outputs": [
    {
     "name": "stderr",
     "output_type": "stream",
     "text": [
      "/media/kornellewy/jan_dysk_3/nlp_projects/nlp_venv/lib/python3.10/site-packages/langchain_core/_api/deprecation.py:117: LangChainDeprecationWarning: The class `langchain_community.llms.openai.OpenAI` was deprecated in langchain-community 0.0.10 and will be removed in 0.2.0. An updated version of the class exists in the langchain-openai package and should be used instead. To use it run `pip install -U langchain-openai` and import as `from langchain_openai import OpenAI`.\n",
      "  warn_deprecated(\n",
      "/media/kornellewy/jan_dysk_3/nlp_projects/nlp_venv/lib/python3.10/site-packages/langchain_core/_api/deprecation.py:117: LangChainDeprecationWarning: The class `langchain_community.embeddings.openai.OpenAIEmbeddings` was deprecated in langchain-community 0.1.0 and will be removed in 0.2.0. An updated version of the class exists in the langchain-openai package and should be used instead. To use it run `pip install -U langchain-openai` and import as `from langchain_openai import OpenAIEmbeddings`.\n",
      "  warn_deprecated(\n"
     ]
    }
   ],
   "source": [
    "llm = OpenAI(openai_api_key=OPENAI_API_KEY_VAR)\n",
    "embeddings = OpenAIEmbeddings(openai_api_key=OPENAI_API_KEY_VAR)"
   ]
  },
  {
   "cell_type": "code",
   "execution_count": 19,
   "metadata": {},
   "outputs": [],
   "source": [
    "astra_vectro_store = Cassandra(\n",
    "    embedding=embeddings,\n",
    "    table_name='qa_mini_demo',\n",
    "    session=None,\n",
    "    keyspace=None,\n",
    ")"
   ]
  },
  {
   "cell_type": "code",
   "execution_count": 21,
   "metadata": {},
   "outputs": [],
   "source": [
    "from langchain.text_splitter import CharacterTextSplitter\n",
    "\n",
    "text_splitter = CharacterTextSplitter(\n",
    "    separator=\"\\n\",\n",
    "    chunk_size=800,\n",
    "    chunk_overlap=200,\n",
    "    length_function=len,\n",
    ")\n",
    "texts = text_splitter.split_text(raw_text)"
   ]
  },
  {
   "cell_type": "code",
   "execution_count": 24,
   "metadata": {},
   "outputs": [],
   "source": [
    "# uplad data and aplly embbeding\n",
    "astra_vectro_store.add_texts(texts[:50])\n",
    "astra_vector_index = VectorStoreIndexWrapper(vectorstore=astra_vectro_store)"
   ]
  },
  {
   "cell_type": "code",
   "execution_count": 27,
   "metadata": {},
   "outputs": [
    {
     "name": "stdout",
     "output_type": "stream",
     "text": [
      "0.8998 rural areas to women as sole or joint owners have enhanced \n",
      "their dignity.  \n",
      "Exemplary  Track Record\n",
      "0.8915 resolutions, as the country opens up immense possibilities and \n",
      "opportunities” . It is our ‘Kartavya\n",
      "0.8896 Economic Management  \n",
      "28. The multipronged economic management over the  past \n",
      "ten years has complem\n",
      "0.8894 borrowings and the total expenditure are estimated at ` 30.80  \n",
      "and 47.66  lakh crore respectively. \n",
      "########################\n",
      "0.9089 procurement, value addition, and crop insurance.      \n",
      "Dairy Development  \n",
      "54. A comprehensive progr\n",
      "0.9087 trading volume of ` 3 lakh crore.  \n",
      "16. The sector is poised for inclusive, balanced, higher growth \n",
      "0.9069 Department for Fisheries realizing the importance of assisting \n",
      "fishermen. This has resulted in doub\n",
      "0.9047 boosting farmers’ income will be stepped up. Pradhan Mantri \n",
      "Kisan  Sampada Yojana has benefitted 38\n",
      "########################\n"
     ]
    }
   ],
   "source": [
    "question1 = \"What is current gdp?\"\n",
    "question2 = \"How much the agriculture target will be increased to and what the focus will be?\"\n",
    "\n",
    "first_question = True\n",
    "\n",
    "for question in [question1, question2]:\n",
    "    answer = astra_vector_index.query(question, llm=llm).strip()\n",
    "\n",
    "    for doc, score in astra_vectro_store.similarity_search_with_score(question, k=4):\n",
    "        print(round(score, 4), doc.page_content[:100])\n",
    "    print(\"########################\")"
   ]
  },
  {
   "cell_type": "code",
   "execution_count": null,
   "metadata": {},
   "outputs": [],
   "source": []
  }
 ],
 "metadata": {
  "kernelspec": {
   "display_name": "nlp_venv",
   "language": "python",
   "name": "python3"
  },
  "language_info": {
   "codemirror_mode": {
    "name": "ipython",
    "version": 3
   },
   "file_extension": ".py",
   "mimetype": "text/x-python",
   "name": "python",
   "nbconvert_exporter": "python",
   "pygments_lexer": "ipython3",
   "version": "3.10.12"
  }
 },
 "nbformat": 4,
 "nbformat_minor": 2
}
