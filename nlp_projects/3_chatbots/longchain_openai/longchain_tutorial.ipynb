{
 "cells": [
  {
   "cell_type": "code",
   "execution_count": 40,
   "metadata": {},
   "outputs": [],
   "source": [
    "from langchain.llms import OpenAI\n",
    "from langchain import HuggingFaceHub\n",
    "import os\n",
    "from dotenv import load_dotenv\n",
    "from langchain.prompts import PromptTemplate\n",
    "from langchain.chains import LLMChain, SimpleSequentialChain, SequentialChain\n"
   ]
  },
  {
   "cell_type": "code",
   "execution_count": 14,
   "metadata": {},
   "outputs": [
    {
     "data": {
      "text/plain": [
       "True"
      ]
     },
     "execution_count": 14,
     "metadata": {},
     "output_type": "execute_result"
    }
   ],
   "source": [
    "load_dotenv()"
   ]
  },
  {
   "cell_type": "code",
   "execution_count": 20,
   "metadata": {},
   "outputs": [],
   "source": [
    "OPENAI_API_KEY_VAR = os.getenv('OPENAI_API_KEY')\n",
    "TEMPERATURE = 0.6"
   ]
  },
  {
   "cell_type": "code",
   "execution_count": 12,
   "metadata": {},
   "outputs": [
    {
     "ename": "NameError",
     "evalue": "name 'TEMPERATURE' is not defined",
     "output_type": "error",
     "traceback": [
      "\u001b[0;31m---------------------------------------------------------------------------\u001b[0m",
      "\u001b[0;31mNameError\u001b[0m                                 Traceback (most recent call last)",
      "Cell \u001b[0;32mIn[12], line 1\u001b[0m\n\u001b[0;32m----> 1\u001b[0m llm \u001b[38;5;241m=\u001b[39m OpenAI(openai_api_key \u001b[38;5;241m=\u001b[39m OPENAI_API_KEY_VAR, temperature\u001b[38;5;241m=\u001b[39m\u001b[43mTEMPERATURE\u001b[49m)\n",
      "\u001b[0;31mNameError\u001b[0m: name 'TEMPERATURE' is not defined"
     ]
    }
   ],
   "source": [
    "llm = OpenAI(openai_api_key = OPENAI_API_KEY_VAR, temperature=TEMPERATURE)"
   ]
  },
  {
   "cell_type": "code",
   "execution_count": 13,
   "metadata": {},
   "outputs": [
    {
     "name": "stdout",
     "output_type": "stream",
     "text": [
      "\n",
      "\n",
      "Warsaw\n"
     ]
    }
   ],
   "source": [
    "test_text = \"Capital of poland is ?\"\n",
    "print(llm.predict(test_text))"
   ]
  },
  {
   "cell_type": "code",
   "execution_count": 21,
   "metadata": {},
   "outputs": [
    {
     "data": {
      "text/plain": [
       "0.6"
      ]
     },
     "execution_count": 21,
     "metadata": {},
     "output_type": "execute_result"
    }
   ],
   "source": [
    "TEMPERATURE"
   ]
  },
  {
   "cell_type": "code",
   "execution_count": 24,
   "metadata": {},
   "outputs": [],
   "source": [
    "llm_huggingface = HuggingFaceHub(huggingfacehub_api_token = os.getenv('HUGGINGFACE_API_KEY'), repo_id=\"google/flan-t5-large\", model_kwargs={\"temperature\": TEMPERATURE, \"max_length\": 64})"
   ]
  },
  {
   "cell_type": "code",
   "execution_count": 25,
   "metadata": {},
   "outputs": [
    {
     "name": "stdout",
     "output_type": "stream",
     "text": [
      "Warsaw\n"
     ]
    }
   ],
   "source": [
    "test_text = \"Capital of poland is ?\"\n",
    "print(llm_huggingface.predict(test_text))"
   ]
  },
  {
   "cell_type": "code",
   "execution_count": 33,
   "metadata": {},
   "outputs": [],
   "source": [
    "prompt_template = PromptTemplate(\n",
    "    input_variables=[\"country\"], template=\"tell me the capital of {country}\"\n",
    ")"
   ]
  },
  {
   "cell_type": "code",
   "execution_count": 34,
   "metadata": {},
   "outputs": [
    {
     "data": {
      "text/plain": [
       "'tell me the capital of poland'"
      ]
     },
     "execution_count": 34,
     "metadata": {},
     "output_type": "execute_result"
    }
   ],
   "source": [
    "prompt_template.format(country=\"poland\")"
   ]
  },
  {
   "cell_type": "code",
   "execution_count": 35,
   "metadata": {},
   "outputs": [
    {
     "name": "stdout",
     "output_type": "stream",
     "text": [
      "\n",
      "\n",
      "The capital of Poland is Warsaw.\n"
     ]
    }
   ],
   "source": [
    "chain = LLMChain(llm=llm, prompt = prompt_template)\n",
    "print(chain.run(\"Poland\"))"
   ]
  },
  {
   "cell_type": "code",
   "execution_count": 38,
   "metadata": {},
   "outputs": [],
   "source": [
    "capital_template = PromptTemplate(\n",
    "    input_variables=[\"country\"], template=\"tell me the capital of {country}\"\n",
    ")\n",
    "capital_chain = LLMChain(llm=llm, prompt = capital_template)\n",
    "\n",
    "famous_template = PromptTemplate(input_variables=[\"capital\"],\n",
    "                template=\"Suggest me some amazing places to visit in {capital}\")\n",
    "famous_chain = LLMChain(llm=llm, prompt = famous_template)"
   ]
  },
  {
   "cell_type": "code",
   "execution_count": 39,
   "metadata": {},
   "outputs": [
    {
     "data": {
      "text/plain": [
       "\" There are many amazing places to visit in Warsaw, including:\\n\\n1. Old Town (Stare Miasto) - This is the historic heart of Warsaw, with beautiful cobblestone streets, colorful buildings, and charming cafes.\\n\\n2. Palace of Culture and Science - This iconic building, built in the Soviet style, offers stunning views of the city from its observation deck.\\n\\n3. Warsaw Uprising Museum - This museum tells the story of the Warsaw Uprising during World War II and is a must-visit for history buffs.\\n\\n4. Lazienki Park - This is the largest park in Warsaw, with beautiful gardens, a palace, and even a free Chopin concert on Sundays in the summer.\\n\\n5. Royal Castle - The former residence of Polish monarchs, this castle now houses a museum with impressive art collections and historical artifacts.\\n\\n6. Wilanow Palace - Another beautiful palace to visit, with stunning gardens and a museum showcasing the history of Poland's aristocracy.\\n\\n7. POLIN Museum of the History of Polish Jews - This modern museum tells the story of Polish Jews throughout history and is a moving and informative experience.\\n\\n8. Warsaw Zoo - This zoo is one of the largest in Europe and is home to over 5,000 animals from all over the world.\\n\\n\""
      ]
     },
     "execution_count": 39,
     "metadata": {},
     "output_type": "execute_result"
    }
   ],
   "source": [
    "chain = SimpleSequentialChain(chains=[capital_chain, famous_chain])\n",
    "chain.run(\"Poland\")"
   ]
  },
  {
   "cell_type": "code",
   "execution_count": 42,
   "metadata": {},
   "outputs": [],
   "source": [
    "capital_template = PromptTemplate(\n",
    "    input_variables=[\"country\"], template=\"tell me the capital of {country}\"\n",
    ")\n",
    "capital_chain = LLMChain(llm=llm, prompt = capital_template, output_key=\"capital\")\n",
    "\n",
    "famous_template = PromptTemplate(input_variables=[\"capital\"],\n",
    "                template=\"Suggest me some amazing places to visit in {capital}\")\n",
    "famous_chain = LLMChain(llm=llm, prompt = famous_template, output_key=\"places\")\n",
    "\n",
    "chain = SequentialChain(\n",
    "    chains=[capital_chain, famous_chain],\n",
    "    input_variables=['country'],\n",
    "    output_variables=['capital', 'places']\n",
    ")"
   ]
  },
  {
   "cell_type": "code",
   "execution_count": 43,
   "metadata": {},
   "outputs": [
    {
     "name": "stderr",
     "output_type": "stream",
     "text": [
      "/media/kornellewy/jan_dysk_3/nlp_projects/nlp_venv/lib/python3.10/site-packages/langchain_core/_api/deprecation.py:117: LangChainDeprecationWarning: The function `__call__` was deprecated in LangChain 0.1.0 and will be removed in 0.2.0. Use invoke instead.\n",
      "  warn_deprecated(\n"
     ]
    },
    {
     "data": {
      "text/plain": [
       "{'country': 'india',\n",
       " 'capital': '\\n\\nThe capital of India is New Delhi.',\n",
       " 'places': \" Some amazing places to visit in New Delhi are:\\n\\n1. Red Fort: A historic fort built during the Mughal era, known for its stunning architecture and light and sound show.\\n\\n2. Qutub Minar: A UNESCO World Heritage Site, this 73-meter tall minaret is a must-visit for its intricate carvings and rich history.\\n\\n3. India Gate: A war memorial and iconic landmark of New Delhi, it is a popular spot for picnics and evening strolls.\\n\\n4. Humayun's Tomb: Another UNESCO World Heritage Site, this magnificent tomb is a fusion of Mughal and Persian architecture.\\n\\n5. Lotus Temple: A Bahá'í House of Worship, this stunning lotus-shaped structure is a peaceful place for meditation and reflection.\\n\\n6. Akshardham Temple: A relatively modern temple known for its grand architecture, intricate carvings, and multimedia shows.\\n\\n7. Jama Masjid: The largest mosque in India, it is an impressive example of Mughal architecture and a popular pilgrimage site.\\n\\n8. Chandni Chowk: One of the oldest and busiest markets in Old Delhi, it is a great place to experience the hustle and bustle of the city and try delicious street food.\\n\\n9. Lod\"}"
      ]
     },
     "execution_count": 43,
     "metadata": {},
     "output_type": "execute_result"
    }
   ],
   "source": [
    "chain({\"country\": \"india\"})"
   ]
  },
  {
   "cell_type": "code",
   "execution_count": 48,
   "metadata": {},
   "outputs": [],
   "source": [
    "from langchain.chat_models import ChatOpenAI\n",
    "from langchain.schema import HumanMessage, SystemMessage, AIMessage"
   ]
  },
  {
   "cell_type": "code",
   "execution_count": 51,
   "metadata": {},
   "outputs": [
    {
     "name": "stderr",
     "output_type": "stream",
     "text": [
      "/media/kornellewy/jan_dysk_3/nlp_projects/nlp_venv/lib/python3.10/site-packages/langchain_core/_api/deprecation.py:117: LangChainDeprecationWarning: The class `langchain_community.chat_models.openai.ChatOpenAI` was deprecated in langchain-community 0.0.10 and will be removed in 0.2.0. An updated version of the class exists in the langchain-openai package and should be used instead. To use it run `pip install -U langchain-openai` and import as `from langchain_openai import ChatOpenAI`.\n",
      "  warn_deprecated(\n"
     ]
    }
   ],
   "source": [
    "chatllm = ChatOpenAI(openai_api_key = OPENAI_API_KEY_VAR, temperature=TEMPERATURE, model='gpt-3.5-turbo')"
   ]
  },
  {
   "cell_type": "code",
   "execution_count": 57,
   "metadata": {},
   "outputs": [
    {
     "data": {
      "text/plain": [
       "AIMessage(content='1. \"I tried to be a stand-up comedian, but I kept falling flat on my face...literally!\"\\n2. \"My love life is like a bad joke: it\\'s always punchline me in the gut!\"\\n3. \"I used to be a baker, but I couldn\\'t rise to the occasion. I guess I kneaded more dough!\"')"
      ]
     },
     "execution_count": 57,
     "metadata": {},
     "output_type": "execute_result"
    }
   ],
   "source": [
    "chatllm([\n",
    "    SystemMessage(content = \"You are a comedian ai assistant.\"),\n",
    "    HumanMessage(content = \"Please write 3 panchlines.\")\n",
    "])"
   ]
  },
  {
   "cell_type": "code",
   "execution_count": 58,
   "metadata": {},
   "outputs": [],
   "source": [
    "from langchain.chat_models import ChatOpenAI\n",
    "from langchain.prompts.chat import ChatPromptTemplate\n",
    "from langchain.schema import BaseOutputParser "
   ]
  },
  {
   "cell_type": "code",
   "execution_count": 59,
   "metadata": {},
   "outputs": [],
   "source": [
    "class CommaSeparatedOutput(BaseOutputParser):\n",
    "    def parse(self, text: str):\n",
    "        return text.strip().strip(\",\")"
   ]
  },
  {
   "cell_type": "code",
   "execution_count": 63,
   "metadata": {},
   "outputs": [],
   "source": [
    "template = \"Your are a helpful assistant. When the use given any input , you should generate 5 words synonyms in a comma seperated list\"\n",
    "human_template = \"{text}\"\n",
    "chatprompt = ChatPromptTemplate.from_messages([\n",
    "    (\"system\", template),\n",
    "    (\"human\", human_template),\n",
    "])"
   ]
  },
  {
   "cell_type": "code",
   "execution_count": 64,
   "metadata": {},
   "outputs": [],
   "source": [
    "chain = chatprompt|chatllm|CommaSeparatedOutput()"
   ]
  },
  {
   "cell_type": "code",
   "execution_count": 65,
   "metadata": {},
   "outputs": [
    {
     "data": {
      "text/plain": [
       "'artificial intelligence, machine learning, automation, robotics, cognitive computing'"
      ]
     },
     "execution_count": 65,
     "metadata": {},
     "output_type": "execute_result"
    }
   ],
   "source": [
    "chain.invoke({\"text\": \"ai\"})"
   ]
  },
  {
   "cell_type": "code",
   "execution_count": null,
   "metadata": {},
   "outputs": [],
   "source": []
  }
 ],
 "metadata": {
  "kernelspec": {
   "display_name": "nlp_venv",
   "language": "python",
   "name": "python3"
  },
  "language_info": {
   "codemirror_mode": {
    "name": "ipython",
    "version": 3
   },
   "file_extension": ".py",
   "mimetype": "text/x-python",
   "name": "python",
   "nbconvert_exporter": "python",
   "pygments_lexer": "ipython3",
   "version": "3.10.12"
  }
 },
 "nbformat": 4,
 "nbformat_minor": 2
}
